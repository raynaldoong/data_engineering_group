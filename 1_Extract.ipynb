{
 "cells": [
  {
   "cell_type": "markdown",
   "metadata": {},
   "source": [
    "# 1. Notebook Setup"
   ]
  },
  {
   "cell_type": "markdown",
   "metadata": {},
   "source": [
    "## 1.1 Install relevant package"
   ]
  },
  {
   "cell_type": "code",
   "execution_count": 32,
   "metadata": {},
   "outputs": [],
   "source": [
    "import requests\n",
    "import os"
   ]
  },
  {
   "cell_type": "markdown",
   "metadata": {},
   "source": [
    "## 1.2 Create raw_data folder"
   ]
  },
  {
   "cell_type": "code",
   "execution_count": 33,
   "metadata": {},
   "outputs": [],
   "source": [
    "# specify the folder name\n",
    "folder_name = 'raw_data'\n",
    "\n",
    "# create the folder if it does not exist\n",
    "if not os.path.exists(folder_name):\n",
    "    os.makedirs(folder_name)"
   ]
  },
  {
   "cell_type": "markdown",
   "metadata": {},
   "source": [
    "# 2. UK Government Open Data Extraction"
   ]
  },
  {
   "cell_type": "markdown",
   "metadata": {},
   "source": [
    "## 2.1 Road Accident 2022"
   ]
  },
  {
   "cell_type": "code",
   "execution_count": 37,
   "metadata": {},
   "outputs": [],
   "source": [
    "# Define the URL, file name and file path\n",
    "url = \"https://data.dft.gov.uk/road-accidents-safety-data/dft-road-casualty-statistics-accident-provisional-mid-year-unvalidated-2022.csv\"\n",
    "filename = \"road_accident_2022.csv\"\n",
    "filepath = os.path.join(\"raw_data\", filename)\n",
    "\n",
    "# Remove the file if it already exists\n",
    "if os.path.exists(filepath):\n",
    "    os.remove(filepath)\n",
    "    \n",
    "# Download the file and save it to the raw_data folder\n",
    "response = requests.get(url)\n",
    "with open(filepath, \"wb\") as f:\n",
    "    f.write(response.content)\n"
   ]
  },
  {
   "cell_type": "markdown",
   "metadata": {},
   "source": [
    "## 2.2 Accident Casualty 2022"
   ]
  },
  {
   "cell_type": "code",
   "execution_count": 36,
   "metadata": {},
   "outputs": [],
   "source": [
    "# Define the URL, file name and file path\n",
    "url = \"https://data.dft.gov.uk/road-accidents-safety-data/dft-road-casualty-statistics-casualty-provisional-mid-year-unvalidated-2022.csv\"\n",
    "filename = \"accident_casualty_2022.csv\"\n",
    "filepath = os.path.join(\"raw_data\", filename)\n",
    "\n",
    "# Remove the file if it already exists\n",
    "if os.path.exists(filepath):\n",
    "    os.remove(filepath)\n",
    "    \n",
    "# Download the file and save it to the raw_data folder\n",
    "response = requests.get(url)\n",
    "with open(filepath, \"wb\") as f:\n",
    "    f.write(response.content)"
   ]
  },
  {
   "cell_type": "markdown",
   "metadata": {},
   "source": [
    "## 2.3 Accident Vehicle 2022"
   ]
  },
  {
   "cell_type": "code",
   "execution_count": 40,
   "metadata": {},
   "outputs": [],
   "source": [
    "# Define the URL, file name and file path\n",
    "url = \"https://data.dft.gov.uk/road-accidents-safety-data/dft-road-casualty-statistics-vehicle-provisional-mid-year-unvalidated-2022.csv\"\n",
    "filename = \"accident_vehicle_2022.csv\"\n",
    "filepath = os.path.join(\"raw_data\", filename)\n",
    "\n",
    "# Remove the file if it already exists\n",
    "if os.path.exists(filepath):\n",
    "    os.remove(filepath)\n",
    "\n",
    "# Download the file and save it to the raw_data folder\n",
    "response = requests.get(url)\n",
    "with open(filepath, \"wb\") as f:\n",
    "    f.write(response.content)\n"
   ]
  },
  {
   "cell_type": "markdown",
   "metadata": {},
   "source": [
    "## 2.4 General Encoding Catalog List"
   ]
  },
  {
   "cell_type": "code",
   "execution_count": 49,
   "metadata": {},
   "outputs": [],
   "source": [
    "# Define the URL, file name and file path\n",
    "url = \"https://data.dft.gov.uk/road-accidents-safety-data/Road-Safety-Open-Dataset-Data-Guide.xlsx\"\n",
    "filename = \"encoding_catalog.csv\"\n",
    "filepath = os.path.join(\"raw_data\", filename)\n",
    "\n",
    "# Remove the file if it already exists\n",
    "if os.path.exists(filepath):\n",
    "    os.remove(filepath)\n",
    "    \n",
    "# Download the file and save it to the raw_data folder\n",
    "response = requests.get(url)\n",
    "with open(filepath, \"wb\") as f:\n",
    "    f.write(response.content)"
   ]
  },
  {
   "cell_type": "markdown",
   "metadata": {},
   "source": [
    "# 3. Edited Encodings"
   ]
  },
  {
   "cell_type": "markdown",
   "metadata": {},
   "source": [
    "## 3.1 Accident_encoding "
   ]
  },
  {
   "cell_type": "markdown",
   "metadata": {},
   "source": [
    "Manually Uploaded"
   ]
  },
  {
   "cell_type": "markdown",
   "metadata": {},
   "source": [
    "## 3.2 Casualty_encoding "
   ]
  },
  {
   "cell_type": "markdown",
   "metadata": {},
   "source": [
    "Manually Uploaded"
   ]
  },
  {
   "cell_type": "markdown",
   "metadata": {},
   "source": [
    "## 3.3 Vehicle_encoding "
   ]
  },
  {
   "cell_type": "markdown",
   "metadata": {},
   "source": [
    "Manually Uploaded"
   ]
  }
 ],
 "metadata": {
  "kernelspec": {
   "display_name": "Python [conda env:Python3] *",
   "language": "python",
   "name": "conda-env-Python3-py"
  },
  "language_info": {
   "codemirror_mode": {
    "name": "ipython",
    "version": 3
   },
   "file_extension": ".py",
   "mimetype": "text/x-python",
   "name": "python",
   "nbconvert_exporter": "python",
   "pygments_lexer": "ipython3",
   "version": "3.9.15"
  }
 },
 "nbformat": 4,
 "nbformat_minor": 2
}
